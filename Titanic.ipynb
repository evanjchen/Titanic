{
 "cells": [
  {
   "cell_type": "code",
   "execution_count": 248,
   "id": "revolutionary-subdivision",
   "metadata": {},
   "outputs": [],
   "source": [
    "import numpy as np\n",
    "import pandas as pd\n",
    "import matplotlib.pyplot as plt\n",
    "\n",
    "from pca import pca\n",
    "\n",
    "from   sklearn.pipeline           import Pipeline, FeatureUnion\n",
    "from sklearn.preprocessing   import OneHotEncoder, QuantileTransformer, StandardScaler\n",
    "from sklearn.impute          import SimpleImputer\n",
    "from sklearn.compose         import ColumnTransformer\n",
    "from sklearn.inspection import permutation_importance\n",
    "from   sklearn.experimental    import enable_iterative_imputer\n",
    "from   sklearn.impute          import *\n",
    "from sklearn.base import clone \n",
    "from   sklearn.metrics            import accuracy_score \n",
    "# Models\n",
    "from sklearn.model_selection import RandomizedSearchCV, train_test_split, StratifiedKFold, cross_val_score\n",
    "from sklearn.svm import SVC\n",
    "from sklearn.neighbors import KNeighborsClassifier\n",
    "from lightgbm import LGBMRegressor, LGBMClassifier\n",
    "from xgboost import XGBRegressor, XGBClassifier\n",
    "from sklearn.ensemble        import ExtraTreesClassifier, RandomForestClassifier, StackingClassifier, VotingClassifier\n",
    "from sklearn.ensemble        import RandomForestRegressor, StackingRegressor, BaggingRegressor\n",
    "from sklearn.linear_model    import LogisticRegression, RidgeClassifier\n",
    "import seaborn as sns\n",
    "from scipy import stats\n",
    "from xgboost import XGBClassifier\n",
    "from collections import Counter\n",
    "import warnings\n",
    "\n",
    "warnings.filterwarnings('ignore')"
   ]
  },
  {
   "cell_type": "code",
   "execution_count": 249,
   "id": "pacific-passion",
   "metadata": {},
   "outputs": [
    {
     "name": "stdout",
     "output_type": "stream",
     "text": [
      "0    549\n",
      "1    342\n",
      "Name: Survived, dtype: int64\n",
      "<class 'pandas.core.frame.DataFrame'>\n",
      "RangeIndex: 891 entries, 0 to 890\n",
      "Data columns (total 12 columns):\n",
      " #   Column       Non-Null Count  Dtype  \n",
      "---  ------       --------------  -----  \n",
      " 0   PassengerId  891 non-null    int64  \n",
      " 1   Survived     891 non-null    int64  \n",
      " 2   Pclass       891 non-null    int64  \n",
      " 3   Name         891 non-null    object \n",
      " 4   Sex          891 non-null    object \n",
      " 5   Age          714 non-null    float64\n",
      " 6   SibSp        891 non-null    int64  \n",
      " 7   Parch        891 non-null    int64  \n",
      " 8   Ticket       891 non-null    object \n",
      " 9   Fare         891 non-null    float64\n",
      " 10  Cabin        204 non-null    object \n",
      " 11  Embarked     889 non-null    object \n",
      "dtypes: float64(2), int64(5), object(5)\n",
      "memory usage: 83.7+ KB\n"
     ]
    },
    {
     "data": {
      "text/plain": [
       "0    549\n",
       "1    342\n",
       "Name: Survived, dtype: int64"
      ]
     },
     "execution_count": 249,
     "metadata": {},
     "output_type": "execute_result"
    }
   ],
   "source": [
    "df = pd.read_csv('train.csv')\n",
    "df.columns\n",
    "print(df.Survived.value_counts())\n",
    "df.info()\n",
    "\n",
    "# Relatively balanced class\n",
    "df.Survived.value_counts()"
   ]
  },
  {
   "cell_type": "code",
   "execution_count": 250,
   "id": "cubic-episode",
   "metadata": {},
   "outputs": [],
   "source": [
    "# Drop PassengerId and Name because they are all unique\n",
    "unique = ['PassengerId', 'Name']\n",
    "\n",
    "y = df.Survived.values\n",
    "X = df.copy()\n",
    "X = df.drop(columns=unique)\n",
    "X = X.drop(columns = ['Survived']) \n"
   ]
  },
  {
   "cell_type": "markdown",
   "id": "liquid-consequence",
   "metadata": {},
   "source": [
    "# The SibSp and Parch seem to have very similar distributions, lets check if they are multi-collinear\n",
    "- We can attempt drop-column importance after fitting the initial model with just one of the columns"
   ]
  },
  {
   "cell_type": "code",
   "execution_count": 251,
   "id": "printable-advocacy",
   "metadata": {},
   "outputs": [
    {
     "data": {
      "image/png": "[encoded data removed]",
      "text/plain": [
       "<Figure size 720x360 with 2 Axes>"
      ]
     },
     "metadata": {
      "needs_background": "light"
     },
     "output_type": "display_data"
    }
   ],
   "source": [
    "plt.figure(figsize=(10, 5))\n",
    "plt.subplot(1,2,1)\n",
    "plt.title(\"SIBSp Distribution\")\n",
    "df.SibSp.value_counts().plot(kind='bar')\n",
    "plt.subplot(1,2,2)\n",
    "plt.title(\"Parch Distribution\")\n",
    "df.Parch.value_counts().plot(kind='bar')\n",
    "plt.show()"
   ]
  },
  {
   "cell_type": "code",
   "execution_count": 252,
   "id": "developing-diamond",
   "metadata": {},
   "outputs": [
    {
     "data": {
      "image/png": "[encoded data removed]",
      "text/plain": [
       "<Figure size 432x288 with 1 Axes>"
      ]
     },
     "metadata": {
      "needs_background": "light"
     },
     "output_type": "display_data"
    },
    {
     "data": {
      "image/png": "[encoded data removed]",
      "text/plain": [
       "<Figure size 432x288 with 1 Axes>"
      ]
     },
     "metadata": {
      "needs_background": "light"
     },
     "output_type": "display_data"
    },
    {
     "data": {
      "image/png": "[encoded data removed]",
      "text/plain": [
       "<Figure size 432x288 with 1 Axes>"
      ]
     },
     "metadata": {
      "needs_background": "light"
     },
     "output_type": "display_data"
    }
   ],
   "source": [
    "plt.title(\"Pclass\")\n",
    "df['Pclass'].value_counts().plot(kind='bar')\n",
    "df.hist(column='Age', bins=20)\n",
    "df.hist(column='Fare', bins=50)\n",
    "plt.show()"
   ]
  },
  {
   "cell_type": "markdown",
   "id": "amended-puppy",
   "metadata": {},
   "source": [
    "# Mean Encoding (might be doing it wrong as it is encoding the entire set rather than basing on training set only)\n",
    "Looks like being female and 1st or 2nd class means high probability of survival. <br>\n"
   ]
  },
  {
   "cell_type": "code",
   "execution_count": 254,
   "id": "specified-seven",
   "metadata": {},
   "outputs": [
    {
     "name": "stdout",
     "output_type": "stream",
     "text": [
      "Sex\n",
      "female    0.742038\n",
      "male      0.188908\n",
      "Name: Survived, dtype: float64 Pclass\n",
      "1    0.629630\n",
      "2    0.472826\n",
      "3    0.242363\n",
      "Name: Survived, dtype: float64 Embarked\n",
      "C    0.553571\n",
      "Q    0.389610\n",
      "S    0.336957\n",
      "Name: Survived, dtype: float64 Sex     Pclass\n",
      "female  1         0.968085\n",
      "        2         0.921053\n",
      "        3         0.500000\n",
      "male    1         0.368852\n",
      "        2         0.157407\n",
      "        3         0.135447\n",
      "Name: Survived, dtype: float64\n"
     ]
    }
   ],
   "source": [
    "sex_mean_encoded = df.groupby(['Sex'])['Survived'].mean()\n",
    "class_mean_encoded = df.groupby(['Pclass'])['Survived'].mean()\n",
    "embark_mean_encoded = df.groupby(['Embarked'])['Survived'].mean()\n",
    "sex_class_mean_encoded = df.groupby(['Sex', 'Pclass'])['Survived'].mean()\n",
    "print(sex_mean_encoded, class_mean_encoded, embark_mean_encoded, sex_class_mean_encoded)\n",
    "\n",
    "X['sex_mean_enc'] = X['Sex'].map(sex_mean_encoded)\n",
    "X['class_enc'] = X['Pclass'].map(class_mean_encoded)\n",
    "X['embark_enc'] = X['Embarked'].map(embark_mean_encoded)\n",
    "\n",
    "# X = X.drop(columns=['Sex', 'Pclass', 'Embarked'])"
   ]
  },
  {
   "cell_type": "markdown",
   "id": "comprehensive-world",
   "metadata": {},
   "source": [
    "# Feature Engineering ('Cabin')"
   ]
  },
  {
   "cell_type": "code",
   "execution_count": 234,
   "id": "analyzed-highlight",
   "metadata": {},
   "outputs": [
    {
     "data": {
      "text/plain": [
       "Cabin\n",
       "A    0.466667\n",
       "B    0.744681\n",
       "C    0.593220\n",
       "D    0.757576\n",
       "E    0.750000\n",
       "F    0.615385\n",
       "G    0.500000\n",
       "T    0.000000\n",
       "Z    0.299854\n",
       "Name: Survived, dtype: float64"
      ]
     },
     "execution_count": 234,
     "metadata": {},
     "output_type": "execute_result"
    }
   ],
   "source": [
    "cabin = X.Cabin.values\n",
    "cabin = [x[0] if isinstance(x, str) else 'Z' for x  in cabin ]\n",
    "counter = Counter(cabin)\n",
    "df['Cabin'] = cabin\n",
    "X['Cabin'] = cabin\n",
    "cabin_mean_encoded = df.groupby(['Cabin'])['Survived'].mean()\n",
    "\n",
    "X['cabin_enc'] = X['Cabin'].map(cabin_mean_encoded)\n",
    "cabin_mean_encoded\n"
   ]
  },
  {
   "cell_type": "markdown",
   "id": "canadian-pathology",
   "metadata": {},
   "source": [
    "# Fill Numerical Nulls with mean and Categorical Nulls with Mode"
   ]
  },
  {
   "cell_type": "code",
   "execution_count": 239,
   "id": "charming-satellite",
   "metadata": {},
   "outputs": [],
   "source": [
    "X['Age'].fillna((X['Age'].median(skipna=True)), inplace=True)\n",
    "X['Embarked'].fillna(X['Embarked'].mode()[0], inplace=True)     # Note: Mode returns a series object so you need to specify index [0]\n",
    "\n",
    "# Due to Low cardinality, we can OHE Sex, and Embarked \n",
    "cat_cols = ['Pclass', 'Sex', 'Cabin', 'Embarked']  \n",
    "num_cols = ['Age', 'Fare', 'Parch', 'SibSp']    \n",
    "\n",
    "cat_prep = ColumnTransformer([('OHE', OneHotEncoder(handle_unknown='ignore'), cat_cols) ])\n",
    "num_prep = ColumnTransformer([('scl', StandardScaler(), num_cols) ])\n",
    "# num_prep = ColumnTransformer([ ('QT', QuantileTransformer(n_quantiles=20, output_distribution='normal'), num_cols)])\n"
   ]
  },
  {
   "cell_type": "code",
   "execution_count": 240,
   "id": "asian-constant",
   "metadata": {},
   "outputs": [],
   "source": [
    "def test_models(models):\n",
    "    mean_scores = []\n",
    "    for model in models:\n",
    "        scores = []\n",
    "        pipe = Pipeline([('cat', cat_prep),\n",
    "                            ('model', model)])\n",
    "        for i in range(10):\n",
    "            X_train, X_val, y_train, y_val = train_test_split(X, y, test_size = 0.2)\n",
    "            pipe.fit(X_train, y_train)\n",
    "            y_pred = pipe.predict(X_val)\n",
    "            score = accuracy_score(y_val, y_pred)\n",
    "            scores.append(score)\n",
    "            \n",
    "        avg_score = np.mean(scores)\n",
    "        mean_scores.append(avg_score)\n",
    "        print(f\"MODEL: {model} SCORE:{avg_score}\")\n",
    "    return mean_scores\n",
    "\n",
    "\n",
    "def kfold_test(models, X, y):\n",
    "    mean_scores = []\n",
    "    for model in models:\n",
    "        scores = []\n",
    "        pipe = Pipeline([('cat', cat_prep),\n",
    "                            ('model', model)])\n",
    "\n",
    "        Kfold = StratifiedKFold(n_splits=5)\n",
    "        for train_index, test_index in Kfold.split(X,y):\n",
    "            X_train, X_val = X.iloc[train_index], X.iloc[test_index]\n",
    "            y_train, y_val = y[train_index], y[test_index]\n",
    "            pipe.fit(X_train, y_train)\n",
    "            y_pred = pipe.predict(X_val)\n",
    "            score = accuracy_score(y_val, y_pred)\n",
    "            scores.append(score)\n",
    "\n",
    "        avg_score = np.mean(scores)\n",
    "        mean_scores.append(avg_score)\n",
    "        print(f\"MODEL: {model} SCORE:{avg_score}\")\n",
    "    return mean_scores\n"
   ]
  },
  {
   "cell_type": "code",
   "execution_count": 245,
   "id": "alert-finance",
   "metadata": {},
   "outputs": [
    {
     "name": "stdout",
     "output_type": "stream",
     "text": [
      "MODEL: RandomForestClassifier() SCORE:0.8036155922415418\n",
      "MODEL: SVC() SCORE:0.8024982738057875\n",
      "MODEL: LGBMClassifier() SCORE:0.8069926558282594\n",
      "MODEL: KNeighborsClassifier() SCORE:0.7845395769254913\n"
     ]
    },
    {
     "data": {
      "text/plain": [
       "[0.8036155922415418,\n",
       " 0.8024982738057875,\n",
       " 0.8069926558282594,\n",
       " 0.7845395769254913]"
      ]
     },
     "execution_count": 245,
     "metadata": {},
     "output_type": "execute_result"
    }
   ],
   "source": [
    "models = [RandomForestClassifier(), SVC(), LGBMClassifier(), KNeighborsClassifier()]\n",
    "\n",
    "kfold_test(models, X, y)"
   ]
  },
  {
   "cell_type": "markdown",
   "id": "smaller-patio",
   "metadata": {},
   "source": [
    "# Hyperparameter Tuning"
   ]
  },
  {
   "cell_type": "code",
   "execution_count": 165,
   "id": "monthly-serial",
   "metadata": {},
   "outputs": [
    {
     "name": "stdout",
     "output_type": "stream",
     "text": [
      "[02:52:45] WARNING: ../src/learner.cc:1061: Starting in XGBoost 1.3.0, the default evaluation metric used with the objective 'binary:logistic' was changed from 'error' to 'logloss'. Explicitly set eval_metric if you'd like to restore the old behavior.\n",
      "[02:52:45] WARNING: ../src/learner.cc:1061: Starting in XGBoost 1.3.0, the default evaluation metric used with the objective 'binary:logistic' was changed from 'error' to 'logloss'. Explicitly set eval_metric if you'd like to restore the old behavior.\n",
      "[02:52:46] WARNING: ../src/learner.cc:1061: Starting in XGBoost 1.3.0, the default evaluation metric used with the objective 'binary:logistic' was changed from 'error' to 'logloss'. Explicitly set eval_metric if you'd like to restore the old behavior.\n",
      "[02:52:46] WARNING: ../src/learner.cc:1061: Starting in XGBoost 1.3.0, the default evaluation metric used with the objective 'binary:logistic' was changed from 'error' to 'logloss'. Explicitly set eval_metric if you'd like to restore the old behavior.\n",
      "[02:52:47] WARNING: ../src/learner.cc:1061: Starting in XGBoost 1.3.0, the default evaluation metric used with the objective 'binary:logistic' was changed from 'error' to 'logloss'. Explicitly set eval_metric if you'd like to restore the old behavior.\n",
      "[02:52:48] WARNING: ../src/learner.cc:1061: Starting in XGBoost 1.3.0, the default evaluation metric used with the objective 'binary:logistic' was changed from 'error' to 'logloss'. Explicitly set eval_metric if you'd like to restore the old behavior.\n",
      "[02:52:48] WARNING: ../src/learner.cc:1061: Starting in XGBoost 1.3.0, the default evaluation metric used with the objective 'binary:logistic' was changed from 'error' to 'logloss'. Explicitly set eval_metric if you'd like to restore the old behavior.\n",
      "[02:52:49] WARNING: ../src/learner.cc:1061: Starting in XGBoost 1.3.0, the default evaluation metric used with the objective 'binary:logistic' was changed from 'error' to 'logloss'. Explicitly set eval_metric if you'd like to restore the old behavior.\n",
      "[02:52:49] WARNING: ../src/learner.cc:1061: Starting in XGBoost 1.3.0, the default evaluation metric used with the objective 'binary:logistic' was changed from 'error' to 'logloss'. Explicitly set eval_metric if you'd like to restore the old behavior.\n",
      "[02:52:50] WARNING: ../src/learner.cc:1061: Starting in XGBoost 1.3.0, the default evaluation metric used with the objective 'binary:logistic' was changed from 'error' to 'logloss'. Explicitly set eval_metric if you'd like to restore the old behavior.\n",
      "MODEL: VotingClassifier(estimators=[('extra', ExtraTreesClassifier()),\n",
      "                             ('lgb', LGBMClassifier(n_estimators=200)),\n",
      "                             ('xg',\n",
      "                              XGBClassifier(base_score=None, booster=None,\n",
      "                                            colsample_bylevel=None,\n",
      "                                            colsample_bynode=None,\n",
      "                                            colsample_bytree=None, gamma=None,\n",
      "                                            gpu_id=None, importance_type='gain',\n",
      "                                            interaction_constraints=None,\n",
      "                                            learning_rate=None,\n",
      "                                            max_delta_step=None, max_depth=None,\n",
      "                                            min_child_weight=None, missing=nan,\n",
      "                                            monotone_constraints=None,\n",
      "                                            n_estimators=200, n_jobs=-1,\n",
      "                                            num_parallel_tree=None,\n",
      "                                            random_state=None, reg_alpha=None,\n",
      "                                            reg_lambda=None,\n",
      "                                            scale_pos_weight=None,\n",
      "                                            subsample=None, tree_method=None,\n",
      "                                            validate_parameters=None,\n",
      "                                            verbosity=None))],\n",
      "                 voting='soft') SCORE:0.8027932960893855\n"
     ]
    },
    {
     "data": {
      "text/plain": [
       "[0.8027932960893855]"
      ]
     },
     "execution_count": 165,
     "metadata": {},
     "output_type": "execute_result"
    }
   ],
   "source": [
    "rf = RandomForestClassifier()\n",
    "rf_tuned = rf.get_params()\n",
    "rf_tuned['n_estimators'] = 200\n",
    "rf = RandomForestClassifier(**rf_tuned)\n",
    "\n",
    "\n",
    "svc_tuned = SVC().get_params()\n",
    "svc_tuned['probability'] = True\n",
    "svc = SVC(**svc_tuned)\n",
    "\n",
    "\n",
    "\n",
    "lgbm_tuned = LGBMClassifier().get_params()\n",
    "lgbm_tuned['n_estimators'] = 200\n",
    "lgbm = LGBMClassifier(**lgbm_tuned)\n",
    "\n",
    "\n",
    "xg_tuned = XGBClassifier().get_params()\n",
    "xg_tuned['n_estimators'] = 200\n",
    "# xg_tuned['objective'] = 'logloss'\n",
    "xg_tuned['n_jobs'] = -1\n",
    "xg = XGBClassifier(**xg_tuned)\n",
    "\n",
    "\n",
    "extra = ExtraTreesClassifier()\n",
    "\n",
    "ensemble = VotingClassifier([('rf', rf),\n",
    "                           ('svc', svc),\n",
    "                           ('extra', extra),\n",
    "                            ('lgb', lgbm),\n",
    "                            ('xg', xg)],\n",
    "                            voting='soft')\n",
    "# kfold_test([ensemble], X, y)\n",
    "test_models([ensemble])"
   ]
  },
  {
   "cell_type": "code",
   "execution_count": 166,
   "id": "positive-circular",
   "metadata": {},
   "outputs": [
    {
     "name": "stdout",
     "output_type": "stream",
     "text": [
      "[02:53:05] WARNING: ../src/learner.cc:1061: Starting in XGBoost 1.3.0, the default evaluation metric used with the objective 'binary:logistic' was changed from 'error' to 'logloss'. Explicitly set eval_metric if you'd like to restore the old behavior.\n",
      "[02:53:05] WARNING: ../src/learner.cc:1061: Starting in XGBoost 1.3.0, the default evaluation metric used with the objective 'binary:logistic' was changed from 'error' to 'logloss'. Explicitly set eval_metric if you'd like to restore the old behavior.\n",
      "[02:53:06] WARNING: ../src/learner.cc:1061: Starting in XGBoost 1.3.0, the default evaluation metric used with the objective 'binary:logistic' was changed from 'error' to 'logloss'. Explicitly set eval_metric if you'd like to restore the old behavior.\n",
      "[02:53:07] WARNING: ../src/learner.cc:1061: Starting in XGBoost 1.3.0, the default evaluation metric used with the objective 'binary:logistic' was changed from 'error' to 'logloss'. Explicitly set eval_metric if you'd like to restore the old behavior.\n",
      "[02:53:07] WARNING: ../src/learner.cc:1061: Starting in XGBoost 1.3.0, the default evaluation metric used with the objective 'binary:logistic' was changed from 'error' to 'logloss'. Explicitly set eval_metric if you'd like to restore the old behavior.\n",
      "MODEL: VotingClassifier(estimators=[('extra', ExtraTreesClassifier()),\n",
      "                             ('lgb', LGBMClassifier(n_estimators=200)),\n",
      "                             ('xg',\n",
      "                              XGBClassifier(base_score=None, booster=None,\n",
      "                                            colsample_bylevel=None,\n",
      "                                            colsample_bynode=None,\n",
      "                                            colsample_bytree=None, gamma=None,\n",
      "                                            gpu_id=None, importance_type='gain',\n",
      "                                            interaction_constraints=None,\n",
      "                                            learning_rate=None,\n",
      "                                            max_delta_step=None, max_depth=None,\n",
      "                                            min_child_weight=None, missing=nan,\n",
      "                                            monotone_constraints=None,\n",
      "                                            n_estimators=200, n_jobs=-1,\n",
      "                                            num_parallel_tree=None,\n",
      "                                            random_state=None, reg_alpha=None,\n",
      "                                            reg_lambda=None,\n",
      "                                            scale_pos_weight=None,\n",
      "                                            subsample=None, tree_method=None,\n",
      "                                            validate_parameters=None,\n",
      "                                            verbosity=None))],\n",
      "                 voting='soft') SCORE:0.8092272926997678\n"
     ]
    },
    {
     "data": {
      "text/plain": [
       "[0.8092272926997678]"
      ]
     },
     "execution_count": 166,
     "metadata": {},
     "output_type": "execute_result"
    }
   ],
   "source": [
    "kfold_test([ensemble], X, y)"
   ]
  },
  {
   "cell_type": "markdown",
   "id": "specialized-clinton",
   "metadata": {},
   "source": [
    "# Fit on Entire Dataset"
   ]
  },
  {
   "cell_type": "code",
   "execution_count": 169,
   "id": "designing-stage",
   "metadata": {},
   "outputs": [
    {
     "name": "stdout",
     "output_type": "stream",
     "text": [
      "[02:53:45] WARNING: ../src/learner.cc:1061: Starting in XGBoost 1.3.0, the default evaluation metric used with the objective 'binary:logistic' was changed from 'error' to 'logloss'. Explicitly set eval_metric if you'd like to restore the old behavior.\n"
     ]
    }
   ],
   "source": [
    "X_test = pd.read_csv('test.csv')\n",
    "passenger_ids = X_test.PassengerId.values\n",
    "\n",
    "X_test['Age'].fillna((X_test['Age'].median(skipna=True)), inplace=True)\n",
    "X_test['Fare'].fillna((X_test['Fare'].median(skipna=True)), inplace=True)\n",
    "X_test['Embarked'].fillna(X_test['Embarked'].mode()[0], inplace=True)     # Note: Mode returns a series object so you need to specify index [0]\n",
    "\n",
    "\n",
    "# Cabin Features\n",
    "cabin = X_test.Cabin.values\n",
    "cabin = [x[0] if isinstance(x, str) else 'Z' for x  in cabin ]\n",
    "counter = Counter(cabin)\n",
    "X_test['Cabin'] = cabin\n",
    "\n",
    "\n",
    "# Mean-encoding\n",
    "X_test['sex_mean_enc'] = X_test['Sex'].map(sex_mean_encoded)\n",
    "X_test['class_enc'] = X_test['Pclass'].map(class_mean_encoded)\n",
    "X_test['cabin_enc'] = X_test['Cabin'].map(cabin_mean_encoded)\n",
    "X_test['embark_enc'] = X_test['Embarked'].map(embark_mean_encoded)\n",
    "\n",
    "# Drop uneeded columns\n",
    "X_test = X_test.drop(columns=unique)\n",
    "\n",
    "model = Pipeline([('cat', cat_prep),\n",
    "                            ('model', ensemble)])\n",
    "model.fit(X, y)\n",
    "y_pred = model.predict(X_test)\n"
   ]
  },
  {
   "cell_type": "code",
   "execution_count": 170,
   "id": "rough-winning",
   "metadata": {},
   "outputs": [],
   "source": [
    "# Save to CSV\n",
    "submission = pd.DataFrame()\n",
    "submission['PassengerId'] = passenger_ids\n",
    "submission['Survived'] = y_pred\n",
    "submission = submission.set_index(['PassengerId'])\n",
    "\n",
    "\n",
    "submission.to_csv('a.csv')"
   ]
  },
  {
   "cell_type": "code",
   "execution_count": null,
   "id": "animated-patient",
   "metadata": {},
   "outputs": [],
   "source": []
  },
  {
   "cell_type": "code",
   "execution_count": null,
   "id": "complex-doctor",
   "metadata": {},
   "outputs": [],
   "source": []
  },
  {
   "cell_type": "code",
   "execution_count": null,
   "id": "combined-detective",
   "metadata": {},
   "outputs": [],
   "source": []
  },
  {
   "cell_type": "code",
   "execution_count": null,
   "id": "gross-macintosh",
   "metadata": {},
   "outputs": [],
   "source": []
  },
  {
   "cell_type": "markdown",
   "id": "active-steal",
   "metadata": {},
   "source": [
    "# Feature Engineering (Titles)"
   ]
  },
  {
   "cell_type": "code",
   "execution_count": 12,
   "id": "sonic-saturn",
   "metadata": {},
   "outputs": [],
   "source": [
    "def is_master(x):\n",
    "    \"\"\"Check if 'master' is in passenger's name\"\"\"\n",
    "    if 'master' in x.lower():\n",
    "        return 1\n",
    "    else:\n",
    "        return 0"
   ]
  },
  {
   "cell_type": "code",
   "execution_count": 255,
   "id": "wound-causing",
   "metadata": {},
   "outputs": [
    {
     "data": {
      "text/plain": [
       "master\n",
       "0    0.374853\n",
       "1    0.575000\n",
       "Name: Survived, dtype: float64"
      ]
     },
     "execution_count": 255,
     "metadata": {},
     "output_type": "execute_result"
    }
   ],
   "source": [
    "# Try dividing into families\n",
    "names = df.Name.values\n",
    "split_names = [name.split(',') for name in names]\n",
    "df['Last_name'] = df['Name'].str.split(',').str[0]\n",
    "df['Name_Title'] = df['Name'].str.split(',').str[1]\n",
    "\n",
    "# CHeck how mnany of the masters are first class\n",
    "df['master'] = df['Name_Title'].apply(is_master)\n",
    "df.groupby(['master'])['Survived'].mean()\n"
   ]
  },
  {
   "cell_type": "code",
   "execution_count": 14,
   "id": "expressed-marking",
   "metadata": {},
   "outputs": [
    {
     "ename": "KeyError",
     "evalue": "'master'",
     "output_type": "error",
     "traceback": [
      "\u001b[0;31m---------------------------------------------------------------------------\u001b[0m",
      "\u001b[0;31mKeyError\u001b[0m                                  Traceback (most recent call last)",
      "\u001b[0;32m<ipython-input-14-04a1b7daee10>\u001b[0m in \u001b[0;36m<module>\u001b[0;34m\u001b[0m\n\u001b[1;32m      1\u001b[0m \u001b[0;31m# It seems like master has nothing to do with class\u001b[0m\u001b[0;34m\u001b[0m\u001b[0;34m\u001b[0m\u001b[0;34m\u001b[0m\u001b[0m\n\u001b[0;32m----> 2\u001b[0;31m \u001b[0mdf\u001b[0m\u001b[0;34m.\u001b[0m\u001b[0mgroupby\u001b[0m\u001b[0;34m(\u001b[0m\u001b[0;34m[\u001b[0m\u001b[0;34m'master'\u001b[0m\u001b[0;34m,\u001b[0m \u001b[0;34m'Pclass'\u001b[0m\u001b[0;34m]\u001b[0m\u001b[0;34m)\u001b[0m\u001b[0;34m.\u001b[0m\u001b[0magg\u001b[0m\u001b[0;34m(\u001b[0m\u001b[0;34m'size'\u001b[0m\u001b[0;34m)\u001b[0m\u001b[0;34m.\u001b[0m\u001b[0munstack\u001b[0m\u001b[0;34m(\u001b[0m\u001b[0;34m)\u001b[0m\u001b[0;34m.\u001b[0m\u001b[0mplot\u001b[0m\u001b[0;34m(\u001b[0m\u001b[0mkind\u001b[0m\u001b[0;34m=\u001b[0m\u001b[0;34m'bar'\u001b[0m\u001b[0;34m,\u001b[0m \u001b[0mlegend\u001b[0m\u001b[0;34m=\u001b[0m\u001b[0;32mTrue\u001b[0m\u001b[0;34m)\u001b[0m\u001b[0;34m\u001b[0m\u001b[0;34m\u001b[0m\u001b[0m\n\u001b[0m",
      "\u001b[0;32m~/opt/anaconda3/lib/python3.8/site-packages/pandas/core/frame.py\u001b[0m in \u001b[0;36mgroupby\u001b[0;34m(self, by, axis, level, as_index, sort, group_keys, squeeze, observed, dropna)\u001b[0m\n\u001b[1;32m   6712\u001b[0m         \u001b[0maxis\u001b[0m \u001b[0;34m=\u001b[0m \u001b[0mself\u001b[0m\u001b[0;34m.\u001b[0m\u001b[0m_get_axis_number\u001b[0m\u001b[0;34m(\u001b[0m\u001b[0maxis\u001b[0m\u001b[0;34m)\u001b[0m\u001b[0;34m\u001b[0m\u001b[0;34m\u001b[0m\u001b[0m\n\u001b[1;32m   6713\u001b[0m \u001b[0;34m\u001b[0m\u001b[0m\n\u001b[0;32m-> 6714\u001b[0;31m         return DataFrameGroupBy(\n\u001b[0m\u001b[1;32m   6715\u001b[0m             \u001b[0mobj\u001b[0m\u001b[0;34m=\u001b[0m\u001b[0mself\u001b[0m\u001b[0;34m,\u001b[0m\u001b[0;34m\u001b[0m\u001b[0;34m\u001b[0m\u001b[0m\n\u001b[1;32m   6716\u001b[0m             \u001b[0mkeys\u001b[0m\u001b[0;34m=\u001b[0m\u001b[0mby\u001b[0m\u001b[0;34m,\u001b[0m\u001b[0;34m\u001b[0m\u001b[0;34m\u001b[0m\u001b[0m\n",
      "\u001b[0;32m~/opt/anaconda3/lib/python3.8/site-packages/pandas/core/groupby/groupby.py\u001b[0m in \u001b[0;36m__init__\u001b[0;34m(self, obj, keys, axis, level, grouper, exclusions, selection, as_index, sort, group_keys, squeeze, observed, mutated, dropna)\u001b[0m\n\u001b[1;32m    558\u001b[0m             \u001b[0;32mfrom\u001b[0m \u001b[0mpandas\u001b[0m\u001b[0;34m.\u001b[0m\u001b[0mcore\u001b[0m\u001b[0;34m.\u001b[0m\u001b[0mgroupby\u001b[0m\u001b[0;34m.\u001b[0m\u001b[0mgrouper\u001b[0m \u001b[0;32mimport\u001b[0m \u001b[0mget_grouper\u001b[0m\u001b[0;34m\u001b[0m\u001b[0;34m\u001b[0m\u001b[0m\n\u001b[1;32m    559\u001b[0m \u001b[0;34m\u001b[0m\u001b[0m\n\u001b[0;32m--> 560\u001b[0;31m             grouper, exclusions, obj = get_grouper(\n\u001b[0m\u001b[1;32m    561\u001b[0m                 \u001b[0mobj\u001b[0m\u001b[0;34m,\u001b[0m\u001b[0;34m\u001b[0m\u001b[0;34m\u001b[0m\u001b[0m\n\u001b[1;32m    562\u001b[0m                 \u001b[0mkeys\u001b[0m\u001b[0;34m,\u001b[0m\u001b[0;34m\u001b[0m\u001b[0;34m\u001b[0m\u001b[0m\n",
      "\u001b[0;32m~/opt/anaconda3/lib/python3.8/site-packages/pandas/core/groupby/grouper.py\u001b[0m in \u001b[0;36mget_grouper\u001b[0;34m(obj, key, axis, level, sort, observed, mutated, validate, dropna)\u001b[0m\n\u001b[1;32m    809\u001b[0m                 \u001b[0min_axis\u001b[0m\u001b[0;34m,\u001b[0m \u001b[0mname\u001b[0m\u001b[0;34m,\u001b[0m \u001b[0mlevel\u001b[0m\u001b[0;34m,\u001b[0m \u001b[0mgpr\u001b[0m \u001b[0;34m=\u001b[0m \u001b[0;32mFalse\u001b[0m\u001b[0;34m,\u001b[0m \u001b[0;32mNone\u001b[0m\u001b[0;34m,\u001b[0m \u001b[0mgpr\u001b[0m\u001b[0;34m,\u001b[0m \u001b[0;32mNone\u001b[0m\u001b[0;34m\u001b[0m\u001b[0;34m\u001b[0m\u001b[0m\n\u001b[1;32m    810\u001b[0m             \u001b[0;32melse\u001b[0m\u001b[0;34m:\u001b[0m\u001b[0;34m\u001b[0m\u001b[0;34m\u001b[0m\u001b[0m\n\u001b[0;32m--> 811\u001b[0;31m                 \u001b[0;32mraise\u001b[0m \u001b[0mKeyError\u001b[0m\u001b[0;34m(\u001b[0m\u001b[0mgpr\u001b[0m\u001b[0;34m)\u001b[0m\u001b[0;34m\u001b[0m\u001b[0;34m\u001b[0m\u001b[0m\n\u001b[0m\u001b[1;32m    812\u001b[0m         \u001b[0;32melif\u001b[0m \u001b[0misinstance\u001b[0m\u001b[0;34m(\u001b[0m\u001b[0mgpr\u001b[0m\u001b[0;34m,\u001b[0m \u001b[0mGrouper\u001b[0m\u001b[0;34m)\u001b[0m \u001b[0;32mand\u001b[0m \u001b[0mgpr\u001b[0m\u001b[0;34m.\u001b[0m\u001b[0mkey\u001b[0m \u001b[0;32mis\u001b[0m \u001b[0;32mnot\u001b[0m \u001b[0;32mNone\u001b[0m\u001b[0;34m:\u001b[0m\u001b[0;34m\u001b[0m\u001b[0;34m\u001b[0m\u001b[0m\n\u001b[1;32m    813\u001b[0m             \u001b[0;31m# Add key to exclusions\u001b[0m\u001b[0;34m\u001b[0m\u001b[0;34m\u001b[0m\u001b[0;34m\u001b[0m\u001b[0m\n",
      "\u001b[0;31mKeyError\u001b[0m: 'master'"
     ]
    }
   ],
   "source": [
    "# It seems like master has nothing to do with class\n",
    "df.groupby(['master', 'Pclass']).agg('size').unstack().plot(kind='bar', legend=True)"
   ]
  },
  {
   "cell_type": "code",
   "execution_count": null,
   "id": "supreme-feature",
   "metadata": {},
   "outputs": [],
   "source": []
  },
  {
   "cell_type": "code",
   "execution_count": null,
   "id": "original-transaction",
   "metadata": {},
   "outputs": [],
   "source": []
  },
  {
   "cell_type": "code",
   "execution_count": null,
   "id": "optical-skirt",
   "metadata": {},
   "outputs": [],
   "source": []
  },
  {
   "cell_type": "code",
   "execution_count": 17,
   "id": "alive-newspaper",
   "metadata": {},
   "outputs": [],
   "source": []
  },
  {
   "cell_type": "code",
   "execution_count": null,
   "id": "intermediate-vessel",
   "metadata": {},
   "outputs": [],
   "source": []
  },
  {
   "cell_type": "code",
   "execution_count": null,
   "id": "opponent-pattern",
   "metadata": {},
   "outputs": [],
   "source": []
  },
  {
   "cell_type": "code",
   "execution_count": null,
   "id": "insured-keyboard",
   "metadata": {},
   "outputs": [],
   "source": []
  },
  {
   "cell_type": "code",
   "execution_count": null,
   "id": "floral-study",
   "metadata": {},
   "outputs": [],
   "source": []
  },
  {
   "cell_type": "code",
   "execution_count": null,
   "id": "measured-profession",
   "metadata": {},
   "outputs": [],
   "source": []
  },
  {
   "cell_type": "code",
   "execution_count": null,
   "id": "dutch-woman",
   "metadata": {},
   "outputs": [],
   "source": []
  },
  {
   "cell_type": "markdown",
   "id": "chinese-impact",
   "metadata": {},
   "source": [
    "# 4) Permutation Importance\n",
    "\n",
    "**Purpose:** Examine a feature's importance by randomly permuting the validation set's feature column's values <br>\n",
    "**Background/Explanation:**   When you train a model with a feature column, we are assuming that there is some value in the feature in its ability to predict target variable. How do you void the feature's ability to predict. You can simply randomly shuffle the feature column's values in the validation set. The feature's supposed ability to predict the target variable should be reduced to 0 with some random noise. <br>\n",
    "**Method:** \n",
    "1) Obtain benchmark model perfomance with all features. <br>\n",
    "2) Randomly permute the validation set's column's values and reassig.. <br>\n",
    "3) Subtract the metric form the benchmark. <br>\n",
    "\n",
    "**Additional Information:** There is no need to retrain a model so this method is faster than drop-column importance. <br>\n",
    "**WARNINGS:** Permutation Importance is only effective when we assume that the features are independent of each. It is not effective when there is multicollinearity between feature columns. "
   ]
  },
  {
   "cell_type": "code",
   "execution_count": 19,
   "id": "solid-pollution",
   "metadata": {},
   "outputs": [
    {
     "ename": "NameError",
     "evalue": "name 'permute_col' is not defined",
     "output_type": "error",
     "traceback": [
      "\u001b[0;31m---------------------------------------------------------------------------\u001b[0m",
      "\u001b[0;31mNameError\u001b[0m                                 Traceback (most recent call last)",
      "\u001b[0;32m<ipython-input-19-5b5c3f8fbce6>\u001b[0m in \u001b[0;36m<module>\u001b[0;34m\u001b[0m\n\u001b[1;32m      4\u001b[0m \u001b[0mpermuted_scores\u001b[0m \u001b[0;34m=\u001b[0m \u001b[0mnp\u001b[0m\u001b[0;34m.\u001b[0m\u001b[0mzeros\u001b[0m\u001b[0;34m(\u001b[0m\u001b[0mshape\u001b[0m\u001b[0;34m=\u001b[0m\u001b[0;34m(\u001b[0m\u001b[0mn\u001b[0m\u001b[0;34m,\u001b[0m\u001b[0mlen\u001b[0m\u001b[0;34m(\u001b[0m\u001b[0mX\u001b[0m\u001b[0;34m.\u001b[0m\u001b[0mcolumns\u001b[0m\u001b[0;34m)\u001b[0m\u001b[0;34m)\u001b[0m\u001b[0;34m)\u001b[0m\u001b[0;34m\u001b[0m\u001b[0;34m\u001b[0m\u001b[0m\n\u001b[1;32m      5\u001b[0m \u001b[0;32mfor\u001b[0m \u001b[0mi\u001b[0m \u001b[0;32min\u001b[0m \u001b[0mrange\u001b[0m\u001b[0;34m(\u001b[0m\u001b[0mn\u001b[0m\u001b[0;34m)\u001b[0m\u001b[0;34m:\u001b[0m\u001b[0;34m\u001b[0m\u001b[0;34m\u001b[0m\u001b[0m\n\u001b[0;32m----> 6\u001b[0;31m     \u001b[0mbench_score\u001b[0m\u001b[0;34m,\u001b[0m \u001b[0mpermute_score\u001b[0m \u001b[0;34m=\u001b[0m \u001b[0mpermute_col\u001b[0m\u001b[0;34m(\u001b[0m\u001b[0mX\u001b[0m\u001b[0;34m,\u001b[0m \u001b[0my\u001b[0m\u001b[0;34m,\u001b[0m \u001b[0mmodel\u001b[0m\u001b[0;34m=\u001b[0m\u001b[0mRandomForestClassifier\u001b[0m\u001b[0;34m(\u001b[0m\u001b[0;34m)\u001b[0m\u001b[0;34m)\u001b[0m   \u001b[0;31m# Call permute_col function\u001b[0m\u001b[0;34m\u001b[0m\u001b[0;34m\u001b[0m\u001b[0m\n\u001b[0m\u001b[1;32m      7\u001b[0m     \u001b[0mbench_scores\u001b[0m\u001b[0;34m.\u001b[0m\u001b[0mappend\u001b[0m\u001b[0;34m(\u001b[0m\u001b[0mbench_score\u001b[0m\u001b[0;34m)\u001b[0m\u001b[0;34m\u001b[0m\u001b[0;34m\u001b[0m\u001b[0m\n\u001b[1;32m      8\u001b[0m     \u001b[0mpermuted_scores\u001b[0m\u001b[0;34m[\u001b[0m\u001b[0mi\u001b[0m\u001b[0;34m]\u001b[0m \u001b[0;34m=\u001b[0m \u001b[0mpermute_score\u001b[0m\u001b[0;34m\u001b[0m\u001b[0;34m\u001b[0m\u001b[0m\n",
      "\u001b[0;31mNameError\u001b[0m: name 'permute_col' is not defined"
     ]
    }
   ],
   "source": [
    "# Get average over 50 iterations \n",
    "n = 50\n",
    "bench_scores = []\n",
    "permuted_scores = np.zeros(shape=(n,len(X.columns)))\n",
    "for i in range(n):\n",
    "    bench_score, permute_score = permute_col(X, y, model=RandomForestClassifier())   # Call permute_col function\n",
    "    bench_scores.append(bench_score)\n",
    "    permuted_scores[i] = permute_score\n",
    "bench_avg = np.mean(bench_scores)\n",
    "permute_avgs = np.mean(dropped_scores, axis=0)\n",
    "permute_avgs = [(col, score) for col, score in zip(X.columns, permute_avgs)]\n",
    "plot_importances(bench_avg, permute_avgs)"
   ]
  },
  {
   "cell_type": "code",
   "execution_count": null,
   "id": "labeled-approval",
   "metadata": {},
   "outputs": [],
   "source": [
    "%run featimp"
   ]
  },
  {
   "cell_type": "code",
   "execution_count": null,
   "id": "nuclear-latitude",
   "metadata": {},
   "outputs": [],
   "source": [
    "# Selected features contains the features selected by each method for k features\n",
    "k = 13\n",
    "all_scores, selected_features = compare_strat(k, PCA_features, spearman, dropped_avg, permute_avgs)\n",
    "labels = ['spearman', 'drop-col', 'permutation', 'PCA']\n",
    "plot_methods(k, all_scores, labels)\n"
   ]
  },
  {
   "cell_type": "code",
   "execution_count": null,
   "id": "beautiful-blink",
   "metadata": {},
   "outputs": [],
   "source": [
    "model = XGBClassifier()\n",
    "model.fit(X, y)\n",
    "explainer = shap.Explainer(model)\n",
    "shap_values = explainer(X)\n",
    "shap.plots.waterfall(shap_values[0])"
   ]
  },
  {
   "cell_type": "markdown",
   "id": "changed-coordinator",
   "metadata": {},
   "source": [
    "###  Examine how well each method performs in comparison to Shap using KendalTau's Rank Correlation Coefficient. For our case, **Spearman's R** Tau is the highest which means that its ranking of feature importance is most similar to the ground truth feature importance ranking"
   ]
  },
  {
   "cell_type": "code",
   "execution_count": null,
   "id": "cutting-scientist",
   "metadata": {},
   "outputs": [],
   "source": [
    "ground_truth = ['ca', 'cp', 'chol', 'thal', 'oldpeak', 'thalach', 'sex', 'fbs', 'restecg']\n",
    "rank_truth = [i+1 for i in range(len(ground_truth))]\n",
    "# Compare how each method \n",
    "\n",
    "i = len(X.columns)\n",
    "feat_spear = get_best_features(spearman, i)\n",
    "feat_drop =  get_best_features(dropped_avg, i, reverse=False)\n",
    "feat_perm = get_best_features(permute_avgs, i, reverse=False)\n",
    "feat_PCA = PCA_features[:i]\n",
    "\n",
    "all_featimp = [feat_spear, feat_drop, feat_perm, feat_PCA]\n",
    "\n",
    "for method, features in zip(labels, all_featimp):\n",
    "    rank = [features.index(col)+1 for col in ground_truth]\n",
    "    tau, p_value = stats.kendalltau(rank, rank_truth)\n",
    "    print(f\"METHOD {method};  Kenall's Tau: {tau}\")\n",
    "    "
   ]
  },
  {
   "cell_type": "markdown",
   "id": "exact-orleans",
   "metadata": {},
   "source": [
    "# Automatic Feature Selection\n",
    "\n",
    "**Method**: \n",
    "1) Establish a benchmark validation error with all features included. <br>\n",
    "2) Remove the least important feature and calculate the average validation score with that feature removed. <br>\n",
    "3) Compare with the Benchmark to ensure the validation error is not dropping below the benchmark. <br>\n",
    "4) Recalculate Spearman's rank for the features that are leftover. <br>\n",
    "Iteratively go through 2, 3, and 4 and stop when the validation error is below the benchmark."
   ]
  },
  {
   "cell_type": "code",
   "execution_count": null,
   "id": "processed-retail",
   "metadata": {},
   "outputs": [],
   "source": [
    "bench_avg = selected_features_score(X, y, X.columns, model=RandomForestClassifier(),n=10)\n",
    "current_features, scores = remove_features(bench_avg)"
   ]
  },
  {
   "cell_type": "code",
   "execution_count": null,
   "id": "classified-projection",
   "metadata": {},
   "outputs": [],
   "source": [
    "print(\"CURRENT FEATURES:\", current_features)\n",
    "plot_feature_removal(scores, bench_avg)"
   ]
  },
  {
   "cell_type": "markdown",
   "id": "naughty-disaster",
   "metadata": {},
   "source": [
    "# Statistical Significance: Variance and Empirical p-values for Feature Importances\n",
    "Many times, the feature importance calculated could be the result of noise. How do we test this? When choosing a method for feature importance, we can iterate through it multiple times to\n",
    "To calculate the variances and standard deviation, we perform a MinMaxScaler to normalize the feature importances. We can see from the below graph that the 'fbs' column's feature importance is likely due to noise. If we run a hypothesis test with **a =. 0.05** we fail to reject the null hypothesis that the column's spearman's R is significant."
   ]
  },
  {
   "cell_type": "code",
   "execution_count": null,
   "id": "engaging-acrobat",
   "metadata": {},
   "outputs": [],
   "source": [
    "normalized = get_feature_variance(X)   # list of tuples (col, mean, variance)\n",
    "plot_feature_variance(normalized)"
   ]
  },
  {
   "cell_type": "markdown",
   "id": "vital-confidence",
   "metadata": {},
   "source": [
    "# Permuting the Y-column:\n",
    "**Purpose**: Determine if the feature importance is due to noise. <br>\n",
    "**Explanation** We would expect that a feature's importance to not be higher than the baseline when the target column is permuted randomly. We perform a null distribution hypothesis test to check if the baseline feature importance is not due to random noise. <br>\n",
    "**Method**:\n",
    "1) Get baseline feature importance score for columns. <br>\n",
    "2) For a set amount of iterations, randomly permute the target column and calculate the feature. <br>\n",
    "3) Count the number of times the column's feature imporrtance is greater than the base. <br>\n",
    "4) Divide each column's count by the total number of iterations. <br>\n",
    "5) If the percentage > 0.05, reject the null hypothesis that the feature's importance score is due to random noise. <br>\n",
    "\n",
    "\n",
    "### After randomly permuting the y-columns for and calculting the Spearman's R compared to the base, we can see that the 'fbs', 'restecg', and 'trestbps', and 'chol' columns had a 55.5%, 6.4%. 19.6%, and 19.6% chance of having their Spearman's R greater than their base. By conducting our hypothesis test, this suggests that these columns' feature importance scores were due to random noise "
   ]
  },
  {
   "cell_type": "code",
   "execution_count": null,
   "id": "excited-prague",
   "metadata": {},
   "outputs": [],
   "source": [
    "dic_pval = permute_y(X, 1000)   # Permute 1000 times\n",
    "print(dic_pval)\n",
    "plot_pval(dic_pval)"
   ]
  },
  {
   "cell_type": "markdown",
   "id": "atlantic-australia",
   "metadata": {},
   "source": [
    "###  **Issue:** Drop-column and Permutation Importance doesnot deal with multi-collinear features\n",
    "### **Reality:** In real-world problems, it is nearly impossible to determine if features are independent of each other. Generally, we should always assume that there is some multi-collinearity between features. How do we solve this issue? \n",
    "### **Solution:** Find the columns that are multi-collinear using a spearman's R matrix\n",
    "\n",
    "\n",
    "### **Explanation**: This heat map is a matrix that shows each features correlation with other columns. If there is a high multi-collinearity between 2 features, we should **drop or permute the columns together**"
   ]
  },
  {
   "cell_type": "code",
   "execution_count": null,
   "id": "wrong-drinking",
   "metadata": {},
   "outputs": [],
   "source": [
    "corr = X.corr(method='spearman')\n",
    "plt.subplots(figsize=(15,12))\n",
    "sns.heatmap(corr, annot=True, vmax=1, cmap='coolwarm')"
   ]
  },
  {
   "cell_type": "code",
   "execution_count": null,
   "id": "tamil-barbados",
   "metadata": {},
   "outputs": [],
   "source": []
  },
  {
   "cell_type": "code",
   "execution_count": null,
   "id": "lonely-catalog",
   "metadata": {},
   "outputs": [],
   "source": []
  }
 ],
 "metadata": {
  "kernelspec": {
   "display_name": "Python 3",
   "language": "python",
   "name": "python3"
  },
  "language_info": {
   "codemirror_mode": {
    "name": "ipython",
    "version": 3
   },
   "file_extension": ".py",
   "mimetype": "text/x-python",
   "name": "python",
   "nbconvert_exporter": "python",
   "pygments_lexer": "ipython3",
   "version": "3.8.3"
  }
 },
 "nbformat": 4,
 "nbformat_minor": 5
}
